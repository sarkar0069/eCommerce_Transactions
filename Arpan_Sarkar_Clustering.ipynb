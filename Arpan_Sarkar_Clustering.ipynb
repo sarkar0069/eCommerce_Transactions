{
 "cells": [
  {
   "cell_type": "markdown",
   "id": "6df16744-40fa-4156-94b1-b05624785bfc",
   "metadata": {},
   "source": [
    "## Customer Segmentation / Clustering "
   ]
  },
  {
   "cell_type": "code",
   "execution_count": 1,
   "id": "8a23ca19-7c11-461f-986d-26957fedf57c",
   "metadata": {},
   "outputs": [],
   "source": [
    "import numpy as np\n",
    "import pandas as pd\n",
    "import matplotlib.pyplot as plt\n",
    "import seaborn as sns"
   ]
  },
  {
   "cell_type": "code",
   "execution_count": 2,
   "id": "0ca9a2ce-785a-4419-b902-abbb17bfe509",
   "metadata": {},
   "outputs": [],
   "source": [
    "Customers = pd.read_csv(\"Customers.csv\")"
   ]
  },
  {
   "cell_type": "code",
   "execution_count": 3,
   "id": "ecd88307-a121-42b7-a6c6-9f4a6634943a",
   "metadata": {},
   "outputs": [],
   "source": [
    "Products = pd.read_csv(\"Products.csv\")"
   ]
  },
  {
   "cell_type": "code",
   "execution_count": 4,
   "id": "2fbf0d80-e08a-476e-8d35-25a8d72b6ea0",
   "metadata": {},
   "outputs": [],
   "source": [
    "Transactions = pd.read_csv(\"Transactions.csv\")"
   ]
  },
  {
   "cell_type": "code",
   "execution_count": 5,
   "id": "a343adf1-6994-4b87-9f99-a1ed10fb075a",
   "metadata": {},
   "outputs": [
    {
     "data": {
      "text/plain": [
       "((200, 4), (100, 4), (1000, 7))"
      ]
     },
     "execution_count": 5,
     "metadata": {},
     "output_type": "execute_result"
    }
   ],
   "source": [
    "Customers.shape, Products.shape, Transactions.shape"
   ]
  },
  {
   "cell_type": "code",
   "execution_count": 6,
   "id": "4bbbd227-2bf4-4ba7-beb0-15ceccfd608f",
   "metadata": {},
   "outputs": [
    {
     "data": {
      "text/html": [
       "<div>\n",
       "<style scoped>\n",
       "    .dataframe tbody tr th:only-of-type {\n",
       "        vertical-align: middle;\n",
       "    }\n",
       "\n",
       "    .dataframe tbody tr th {\n",
       "        vertical-align: top;\n",
       "    }\n",
       "\n",
       "    .dataframe thead th {\n",
       "        text-align: right;\n",
       "    }\n",
       "</style>\n",
       "<table border=\"1\" class=\"dataframe\">\n",
       "  <thead>\n",
       "    <tr style=\"text-align: right;\">\n",
       "      <th></th>\n",
       "      <th>CustomerID</th>\n",
       "      <th>CustomerName</th>\n",
       "      <th>Region</th>\n",
       "      <th>SignupDate</th>\n",
       "    </tr>\n",
       "  </thead>\n",
       "  <tbody>\n",
       "    <tr>\n",
       "      <th>42</th>\n",
       "      <td>C0043</td>\n",
       "      <td>Sandy Short MD</td>\n",
       "      <td>Asia</td>\n",
       "      <td>2023-02-05</td>\n",
       "    </tr>\n",
       "    <tr>\n",
       "      <th>45</th>\n",
       "      <td>C0046</td>\n",
       "      <td>Beth Cardenas</td>\n",
       "      <td>North America</td>\n",
       "      <td>2024-10-23</td>\n",
       "    </tr>\n",
       "    <tr>\n",
       "      <th>165</th>\n",
       "      <td>C0166</td>\n",
       "      <td>John Rogers</td>\n",
       "      <td>Europe</td>\n",
       "      <td>2022-02-13</td>\n",
       "    </tr>\n",
       "    <tr>\n",
       "      <th>108</th>\n",
       "      <td>C0109</td>\n",
       "      <td>Abigail Jones</td>\n",
       "      <td>North America</td>\n",
       "      <td>2022-05-09</td>\n",
       "    </tr>\n",
       "    <tr>\n",
       "      <th>18</th>\n",
       "      <td>C0019</td>\n",
       "      <td>Brandon Rodriguez</td>\n",
       "      <td>Europe</td>\n",
       "      <td>2023-01-12</td>\n",
       "    </tr>\n",
       "  </tbody>\n",
       "</table>\n",
       "</div>"
      ],
      "text/plain": [
       "    CustomerID       CustomerName         Region  SignupDate\n",
       "42       C0043     Sandy Short MD           Asia  2023-02-05\n",
       "45       C0046      Beth Cardenas  North America  2024-10-23\n",
       "165      C0166        John Rogers         Europe  2022-02-13\n",
       "108      C0109      Abigail Jones  North America  2022-05-09\n",
       "18       C0019  Brandon Rodriguez         Europe  2023-01-12"
      ]
     },
     "execution_count": 6,
     "metadata": {},
     "output_type": "execute_result"
    }
   ],
   "source": [
    "Customers.sample(5)"
   ]
  },
  {
   "cell_type": "code",
   "execution_count": 7,
   "id": "8d109519-a4a3-479b-84da-83dcdacebafa",
   "metadata": {},
   "outputs": [
    {
     "data": {
      "text/html": [
       "<div>\n",
       "<style scoped>\n",
       "    .dataframe tbody tr th:only-of-type {\n",
       "        vertical-align: middle;\n",
       "    }\n",
       "\n",
       "    .dataframe tbody tr th {\n",
       "        vertical-align: top;\n",
       "    }\n",
       "\n",
       "    .dataframe thead th {\n",
       "        text-align: right;\n",
       "    }\n",
       "</style>\n",
       "<table border=\"1\" class=\"dataframe\">\n",
       "  <thead>\n",
       "    <tr style=\"text-align: right;\">\n",
       "      <th></th>\n",
       "      <th>ProductID</th>\n",
       "      <th>ProductName</th>\n",
       "      <th>Category</th>\n",
       "      <th>Price</th>\n",
       "    </tr>\n",
       "  </thead>\n",
       "  <tbody>\n",
       "    <tr>\n",
       "      <th>69</th>\n",
       "      <td>P070</td>\n",
       "      <td>HomeSense T-Shirt</td>\n",
       "      <td>Clothing</td>\n",
       "      <td>48.69</td>\n",
       "    </tr>\n",
       "    <tr>\n",
       "      <th>45</th>\n",
       "      <td>P046</td>\n",
       "      <td>BookWorld Sweater</td>\n",
       "      <td>Clothing</td>\n",
       "      <td>366.07</td>\n",
       "    </tr>\n",
       "    <tr>\n",
       "      <th>31</th>\n",
       "      <td>P032</td>\n",
       "      <td>BookWorld Cookbook</td>\n",
       "      <td>Books</td>\n",
       "      <td>488.63</td>\n",
       "    </tr>\n",
       "    <tr>\n",
       "      <th>10</th>\n",
       "      <td>P011</td>\n",
       "      <td>SoundWave Desk Lamp</td>\n",
       "      <td>Home Decor</td>\n",
       "      <td>261.20</td>\n",
       "    </tr>\n",
       "    <tr>\n",
       "      <th>92</th>\n",
       "      <td>P093</td>\n",
       "      <td>TechPro Vase</td>\n",
       "      <td>Home Decor</td>\n",
       "      <td>304.94</td>\n",
       "    </tr>\n",
       "  </tbody>\n",
       "</table>\n",
       "</div>"
      ],
      "text/plain": [
       "   ProductID          ProductName    Category   Price\n",
       "69      P070    HomeSense T-Shirt    Clothing   48.69\n",
       "45      P046    BookWorld Sweater    Clothing  366.07\n",
       "31      P032   BookWorld Cookbook       Books  488.63\n",
       "10      P011  SoundWave Desk Lamp  Home Decor  261.20\n",
       "92      P093         TechPro Vase  Home Decor  304.94"
      ]
     },
     "execution_count": 7,
     "metadata": {},
     "output_type": "execute_result"
    }
   ],
   "source": [
    "Products.sample(5)"
   ]
  },
  {
   "cell_type": "code",
   "execution_count": 8,
   "id": "e42db548-0e60-426a-94da-e1b2797dfce1",
   "metadata": {},
   "outputs": [
    {
     "data": {
      "text/html": [
       "<div>\n",
       "<style scoped>\n",
       "    .dataframe tbody tr th:only-of-type {\n",
       "        vertical-align: middle;\n",
       "    }\n",
       "\n",
       "    .dataframe tbody tr th {\n",
       "        vertical-align: top;\n",
       "    }\n",
       "\n",
       "    .dataframe thead th {\n",
       "        text-align: right;\n",
       "    }\n",
       "</style>\n",
       "<table border=\"1\" class=\"dataframe\">\n",
       "  <thead>\n",
       "    <tr style=\"text-align: right;\">\n",
       "      <th></th>\n",
       "      <th>TransactionID</th>\n",
       "      <th>CustomerID</th>\n",
       "      <th>ProductID</th>\n",
       "      <th>TransactionDate</th>\n",
       "      <th>Quantity</th>\n",
       "      <th>TotalValue</th>\n",
       "      <th>Price</th>\n",
       "    </tr>\n",
       "  </thead>\n",
       "  <tbody>\n",
       "    <tr>\n",
       "      <th>481</th>\n",
       "      <td>T00792</td>\n",
       "      <td>C0105</td>\n",
       "      <td>P031</td>\n",
       "      <td>2024-01-11 06:02:11</td>\n",
       "      <td>1</td>\n",
       "      <td>196.40</td>\n",
       "      <td>196.40</td>\n",
       "    </tr>\n",
       "    <tr>\n",
       "      <th>320</th>\n",
       "      <td>T00690</td>\n",
       "      <td>C0029</td>\n",
       "      <td>P036</td>\n",
       "      <td>2024-12-26 01:49:16</td>\n",
       "      <td>3</td>\n",
       "      <td>1117.65</td>\n",
       "      <td>372.55</td>\n",
       "    </tr>\n",
       "    <tr>\n",
       "      <th>318</th>\n",
       "      <td>T00616</td>\n",
       "      <td>C0101</td>\n",
       "      <td>P036</td>\n",
       "      <td>2024-12-07 12:23:24</td>\n",
       "      <td>2</td>\n",
       "      <td>745.10</td>\n",
       "      <td>372.55</td>\n",
       "    </tr>\n",
       "    <tr>\n",
       "      <th>449</th>\n",
       "      <td>T00737</td>\n",
       "      <td>C0157</td>\n",
       "      <td>P021</td>\n",
       "      <td>2024-05-19 06:37:56</td>\n",
       "      <td>1</td>\n",
       "      <td>335.84</td>\n",
       "      <td>335.84</td>\n",
       "    </tr>\n",
       "    <tr>\n",
       "      <th>513</th>\n",
       "      <td>T00867</td>\n",
       "      <td>C0171</td>\n",
       "      <td>P032</td>\n",
       "      <td>2024-10-23 16:23:33</td>\n",
       "      <td>3</td>\n",
       "      <td>1465.89</td>\n",
       "      <td>488.63</td>\n",
       "    </tr>\n",
       "  </tbody>\n",
       "</table>\n",
       "</div>"
      ],
      "text/plain": [
       "    TransactionID CustomerID ProductID      TransactionDate  Quantity  \\\n",
       "481        T00792      C0105      P031  2024-01-11 06:02:11         1   \n",
       "320        T00690      C0029      P036  2024-12-26 01:49:16         3   \n",
       "318        T00616      C0101      P036  2024-12-07 12:23:24         2   \n",
       "449        T00737      C0157      P021  2024-05-19 06:37:56         1   \n",
       "513        T00867      C0171      P032  2024-10-23 16:23:33         3   \n",
       "\n",
       "     TotalValue   Price  \n",
       "481      196.40  196.40  \n",
       "320     1117.65  372.55  \n",
       "318      745.10  372.55  \n",
       "449      335.84  335.84  \n",
       "513     1465.89  488.63  "
      ]
     },
     "execution_count": 8,
     "metadata": {},
     "output_type": "execute_result"
    }
   ],
   "source": [
    "Transactions.sample(5)"
   ]
  },
  {
   "cell_type": "markdown",
   "id": "ed28c2c1-d58c-489a-bb9d-0ac91a64f7ef",
   "metadata": {},
   "source": [
    "### Clustering"
   ]
  },
  {
   "cell_type": "code",
   "execution_count": 9,
   "id": "042737e0-92eb-4c88-8cd4-35711bd9ae12",
   "metadata": {},
   "outputs": [],
   "source": [
    "from sklearn.preprocessing import StandardScaler\n",
    "from sklearn.cluster import KMeans\n",
    "from sklearn.metrics import davies_bouldin_score"
   ]
  },
  {
   "cell_type": "code",
   "execution_count": 10,
   "id": "a53f7ecc-7e66-4a6f-92ad-8eabbadf5263",
   "metadata": {},
   "outputs": [],
   "source": [
    "merged_data = pd.merge(Transactions, Customers, on='CustomerID')"
   ]
  },
  {
   "cell_type": "code",
   "execution_count": 13,
   "id": "cf93033d-4e10-4cba-a81e-53eded959ed2",
   "metadata": {},
   "outputs": [
    {
     "data": {
      "text/html": [
       "<div>\n",
       "<style scoped>\n",
       "    .dataframe tbody tr th:only-of-type {\n",
       "        vertical-align: middle;\n",
       "    }\n",
       "\n",
       "    .dataframe tbody tr th {\n",
       "        vertical-align: top;\n",
       "    }\n",
       "\n",
       "    .dataframe thead th {\n",
       "        text-align: right;\n",
       "    }\n",
       "</style>\n",
       "<table border=\"1\" class=\"dataframe\">\n",
       "  <thead>\n",
       "    <tr style=\"text-align: right;\">\n",
       "      <th></th>\n",
       "      <th>TransactionID</th>\n",
       "      <th>CustomerID</th>\n",
       "      <th>ProductID</th>\n",
       "      <th>TransactionDate</th>\n",
       "      <th>Quantity</th>\n",
       "      <th>TotalValue</th>\n",
       "      <th>Price</th>\n",
       "      <th>CustomerName</th>\n",
       "      <th>Region</th>\n",
       "      <th>SignupDate</th>\n",
       "    </tr>\n",
       "  </thead>\n",
       "  <tbody>\n",
       "    <tr>\n",
       "      <th>277</th>\n",
       "      <td>T00531</td>\n",
       "      <td>C0022</td>\n",
       "      <td>P047</td>\n",
       "      <td>2024-07-10 07:04:02</td>\n",
       "      <td>1</td>\n",
       "      <td>159.33</td>\n",
       "      <td>159.33</td>\n",
       "      <td>Teresa Esparza</td>\n",
       "      <td>Asia</td>\n",
       "      <td>2023-10-27</td>\n",
       "    </tr>\n",
       "    <tr>\n",
       "      <th>301</th>\n",
       "      <td>T00106</td>\n",
       "      <td>C0158</td>\n",
       "      <td>P076</td>\n",
       "      <td>2024-09-12 09:25:47</td>\n",
       "      <td>4</td>\n",
       "      <td>1717.16</td>\n",
       "      <td>429.29</td>\n",
       "      <td>Wendy Browning</td>\n",
       "      <td>South America</td>\n",
       "      <td>2023-04-12</td>\n",
       "    </tr>\n",
       "    <tr>\n",
       "      <th>271</th>\n",
       "      <td>T00047</td>\n",
       "      <td>C0136</td>\n",
       "      <td>P047</td>\n",
       "      <td>2024-04-23 17:09:27</td>\n",
       "      <td>4</td>\n",
       "      <td>637.32</td>\n",
       "      <td>159.33</td>\n",
       "      <td>Kristen Holder</td>\n",
       "      <td>Asia</td>\n",
       "      <td>2024-03-14</td>\n",
       "    </tr>\n",
       "    <tr>\n",
       "      <th>556</th>\n",
       "      <td>T00748</td>\n",
       "      <td>C0119</td>\n",
       "      <td>P096</td>\n",
       "      <td>2024-10-13 16:15:16</td>\n",
       "      <td>1</td>\n",
       "      <td>307.47</td>\n",
       "      <td>307.47</td>\n",
       "      <td>David Armstrong</td>\n",
       "      <td>Europe</td>\n",
       "      <td>2023-11-13</td>\n",
       "    </tr>\n",
       "    <tr>\n",
       "      <th>925</th>\n",
       "      <td>T00908</td>\n",
       "      <td>C0089</td>\n",
       "      <td>P079</td>\n",
       "      <td>2024-02-12 15:27:25</td>\n",
       "      <td>4</td>\n",
       "      <td>1669.48</td>\n",
       "      <td>417.37</td>\n",
       "      <td>Paul Carter</td>\n",
       "      <td>Europe</td>\n",
       "      <td>2024-04-02</td>\n",
       "    </tr>\n",
       "  </tbody>\n",
       "</table>\n",
       "</div>"
      ],
      "text/plain": [
       "    TransactionID CustomerID ProductID      TransactionDate  Quantity  \\\n",
       "277        T00531      C0022      P047  2024-07-10 07:04:02         1   \n",
       "301        T00106      C0158      P076  2024-09-12 09:25:47         4   \n",
       "271        T00047      C0136      P047  2024-04-23 17:09:27         4   \n",
       "556        T00748      C0119      P096  2024-10-13 16:15:16         1   \n",
       "925        T00908      C0089      P079  2024-02-12 15:27:25         4   \n",
       "\n",
       "     TotalValue   Price     CustomerName         Region  SignupDate  \n",
       "277      159.33  159.33   Teresa Esparza           Asia  2023-10-27  \n",
       "301     1717.16  429.29   Wendy Browning  South America  2023-04-12  \n",
       "271      637.32  159.33   Kristen Holder           Asia  2024-03-14  \n",
       "556      307.47  307.47  David Armstrong         Europe  2023-11-13  \n",
       "925     1669.48  417.37      Paul Carter         Europe  2024-04-02  "
      ]
     },
     "execution_count": 13,
     "metadata": {},
     "output_type": "execute_result"
    }
   ],
   "source": [
    "merged_data.sample(5)"
   ]
  },
  {
   "cell_type": "code",
   "execution_count": 14,
   "id": "8497c95e-5fa2-41b8-ab6e-edaa5aac0e4c",
   "metadata": {},
   "outputs": [],
   "source": [
    "customer_data = merged_data.groupby('CustomerID').agg({'TransactionID': 'count', 'TotalValue': 'sum', 'Quantity': 'sum'}).reset_index()"
   ]
  },
  {
   "cell_type": "code",
   "execution_count": 15,
   "id": "8737810f-1e0c-4d09-b6f3-2ebb68e7e909",
   "metadata": {},
   "outputs": [
    {
     "data": {
      "text/html": [
       "<div>\n",
       "<style scoped>\n",
       "    .dataframe tbody tr th:only-of-type {\n",
       "        vertical-align: middle;\n",
       "    }\n",
       "\n",
       "    .dataframe tbody tr th {\n",
       "        vertical-align: top;\n",
       "    }\n",
       "\n",
       "    .dataframe thead th {\n",
       "        text-align: right;\n",
       "    }\n",
       "</style>\n",
       "<table border=\"1\" class=\"dataframe\">\n",
       "  <thead>\n",
       "    <tr style=\"text-align: right;\">\n",
       "      <th></th>\n",
       "      <th>CustomerID</th>\n",
       "      <th>TransactionID</th>\n",
       "      <th>TotalValue</th>\n",
       "      <th>Quantity</th>\n",
       "    </tr>\n",
       "  </thead>\n",
       "  <tbody>\n",
       "    <tr>\n",
       "      <th>195</th>\n",
       "      <td>C0197</td>\n",
       "      <td>3</td>\n",
       "      <td>1928.65</td>\n",
       "      <td>9</td>\n",
       "    </tr>\n",
       "    <tr>\n",
       "      <th>19</th>\n",
       "      <td>C0020</td>\n",
       "      <td>1</td>\n",
       "      <td>922.41</td>\n",
       "      <td>3</td>\n",
       "    </tr>\n",
       "    <tr>\n",
       "      <th>79</th>\n",
       "      <td>C0080</td>\n",
       "      <td>1</td>\n",
       "      <td>1007.52</td>\n",
       "      <td>3</td>\n",
       "    </tr>\n",
       "    <tr>\n",
       "      <th>57</th>\n",
       "      <td>C0058</td>\n",
       "      <td>1</td>\n",
       "      <td>396.34</td>\n",
       "      <td>1</td>\n",
       "    </tr>\n",
       "    <tr>\n",
       "      <th>146</th>\n",
       "      <td>C0147</td>\n",
       "      <td>9</td>\n",
       "      <td>2948.44</td>\n",
       "      <td>14</td>\n",
       "    </tr>\n",
       "  </tbody>\n",
       "</table>\n",
       "</div>"
      ],
      "text/plain": [
       "    CustomerID  TransactionID  TotalValue  Quantity\n",
       "195      C0197              3     1928.65         9\n",
       "19       C0020              1      922.41         3\n",
       "79       C0080              1     1007.52         3\n",
       "57       C0058              1      396.34         1\n",
       "146      C0147              9     2948.44        14"
      ]
     },
     "execution_count": 15,
     "metadata": {},
     "output_type": "execute_result"
    }
   ],
   "source": [
    "customer_data.sample(5)"
   ]
  },
  {
   "cell_type": "code",
   "execution_count": 16,
   "id": "b92cd246-1518-4f66-997a-558b361bab5b",
   "metadata": {},
   "outputs": [],
   "source": [
    "customer_data.rename(columns={'TransactionID': 'NumTransactions', 'TotalValue': 'TotalSpending','Quantity': 'TotalQuantity'}, inplace=True)"
   ]
  },
  {
   "cell_type": "code",
   "execution_count": 17,
   "id": "e4d41546-f2f0-49da-9eef-5052fb8b61ff",
   "metadata": {},
   "outputs": [
    {
     "data": {
      "text/html": [
       "<div>\n",
       "<style scoped>\n",
       "    .dataframe tbody tr th:only-of-type {\n",
       "        vertical-align: middle;\n",
       "    }\n",
       "\n",
       "    .dataframe tbody tr th {\n",
       "        vertical-align: top;\n",
       "    }\n",
       "\n",
       "    .dataframe thead th {\n",
       "        text-align: right;\n",
       "    }\n",
       "</style>\n",
       "<table border=\"1\" class=\"dataframe\">\n",
       "  <thead>\n",
       "    <tr style=\"text-align: right;\">\n",
       "      <th></th>\n",
       "      <th>CustomerID</th>\n",
       "      <th>NumTransactions</th>\n",
       "      <th>TotalSpending</th>\n",
       "      <th>TotalQuantity</th>\n",
       "    </tr>\n",
       "  </thead>\n",
       "  <tbody>\n",
       "    <tr>\n",
       "      <th>79</th>\n",
       "      <td>C0080</td>\n",
       "      <td>1</td>\n",
       "      <td>1007.52</td>\n",
       "      <td>3</td>\n",
       "    </tr>\n",
       "    <tr>\n",
       "      <th>0</th>\n",
       "      <td>C0001</td>\n",
       "      <td>5</td>\n",
       "      <td>3354.52</td>\n",
       "      <td>12</td>\n",
       "    </tr>\n",
       "    <tr>\n",
       "      <th>60</th>\n",
       "      <td>C0061</td>\n",
       "      <td>3</td>\n",
       "      <td>2138.26</td>\n",
       "      <td>6</td>\n",
       "    </tr>\n",
       "    <tr>\n",
       "      <th>18</th>\n",
       "      <td>C0019</td>\n",
       "      <td>6</td>\n",
       "      <td>2185.82</td>\n",
       "      <td>11</td>\n",
       "    </tr>\n",
       "    <tr>\n",
       "      <th>159</th>\n",
       "      <td>C0160</td>\n",
       "      <td>5</td>\n",
       "      <td>2926.93</td>\n",
       "      <td>14</td>\n",
       "    </tr>\n",
       "  </tbody>\n",
       "</table>\n",
       "</div>"
      ],
      "text/plain": [
       "    CustomerID  NumTransactions  TotalSpending  TotalQuantity\n",
       "79       C0080                1        1007.52              3\n",
       "0        C0001                5        3354.52             12\n",
       "60       C0061                3        2138.26              6\n",
       "18       C0019                6        2185.82             11\n",
       "159      C0160                5        2926.93             14"
      ]
     },
     "execution_count": 17,
     "metadata": {},
     "output_type": "execute_result"
    }
   ],
   "source": [
    "customer_data.sample(5)"
   ]
  },
  {
   "cell_type": "code",
   "execution_count": 18,
   "id": "d04fd763-7b3b-47c7-87ae-ecfbd31fab21",
   "metadata": {},
   "outputs": [],
   "source": [
    "features = customer_data[['NumTransactions', 'TotalSpending', 'TotalQuantity']]"
   ]
  },
  {
   "cell_type": "code",
   "execution_count": 19,
   "id": "a307b814-ce24-4aa5-b244-e19fcd935ae8",
   "metadata": {},
   "outputs": [],
   "source": [
    "scaler = StandardScaler()\n",
    "scaled_features = scaler.fit_transform(features)"
   ]
  },
  {
   "cell_type": "code",
   "execution_count": 20,
   "id": "1e035c8b-8173-4f18-bd8d-9a08a1bf70c3",
   "metadata": {},
   "outputs": [
    {
     "name": "stderr",
     "output_type": "stream",
     "text": [
      "C:\\Users\\ARPAN\\anaconda3\\Lib\\site-packages\\sklearn\\cluster\\_kmeans.py:1429: UserWarning: KMeans is known to have a memory leak on Windows with MKL, when there are less chunks than available threads. You can avoid it by setting the environment variable OMP_NUM_THREADS=1.\n",
      "  warnings.warn(\n"
     ]
    }
   ],
   "source": [
    "num_clusters = 5\n",
    "kmeans = KMeans(n_clusters=num_clusters, random_state=42)\n",
    "customer_data['Cluster'] = kmeans.fit_predict(scaled_features)"
   ]
  },
  {
   "cell_type": "code",
   "execution_count": 21,
   "id": "88742be0-61a3-4b89-bb65-8d9cc63a096b",
   "metadata": {},
   "outputs": [
    {
     "data": {
      "text/html": [
       "<div>\n",
       "<style scoped>\n",
       "    .dataframe tbody tr th:only-of-type {\n",
       "        vertical-align: middle;\n",
       "    }\n",
       "\n",
       "    .dataframe tbody tr th {\n",
       "        vertical-align: top;\n",
       "    }\n",
       "\n",
       "    .dataframe thead th {\n",
       "        text-align: right;\n",
       "    }\n",
       "</style>\n",
       "<table border=\"1\" class=\"dataframe\">\n",
       "  <thead>\n",
       "    <tr style=\"text-align: right;\">\n",
       "      <th></th>\n",
       "      <th>CustomerID</th>\n",
       "      <th>NumTransactions</th>\n",
       "      <th>TotalSpending</th>\n",
       "      <th>TotalQuantity</th>\n",
       "      <th>Cluster</th>\n",
       "    </tr>\n",
       "  </thead>\n",
       "  <tbody>\n",
       "    <tr>\n",
       "      <th>91</th>\n",
       "      <td>C0092</td>\n",
       "      <td>4</td>\n",
       "      <td>3015.95</td>\n",
       "      <td>10</td>\n",
       "      <td>4</td>\n",
       "    </tr>\n",
       "    <tr>\n",
       "      <th>105</th>\n",
       "      <td>C0106</td>\n",
       "      <td>5</td>\n",
       "      <td>2939.30</td>\n",
       "      <td>13</td>\n",
       "      <td>4</td>\n",
       "    </tr>\n",
       "    <tr>\n",
       "      <th>149</th>\n",
       "      <td>C0150</td>\n",
       "      <td>1</td>\n",
       "      <td>580.34</td>\n",
       "      <td>2</td>\n",
       "      <td>1</td>\n",
       "    </tr>\n",
       "    <tr>\n",
       "      <th>197</th>\n",
       "      <td>C0199</td>\n",
       "      <td>4</td>\n",
       "      <td>1979.28</td>\n",
       "      <td>9</td>\n",
       "      <td>4</td>\n",
       "    </tr>\n",
       "    <tr>\n",
       "      <th>189</th>\n",
       "      <td>C0191</td>\n",
       "      <td>5</td>\n",
       "      <td>2997.97</td>\n",
       "      <td>11</td>\n",
       "      <td>4</td>\n",
       "    </tr>\n",
       "  </tbody>\n",
       "</table>\n",
       "</div>"
      ],
      "text/plain": [
       "    CustomerID  NumTransactions  TotalSpending  TotalQuantity  Cluster\n",
       "91       C0092                4        3015.95             10        4\n",
       "105      C0106                5        2939.30             13        4\n",
       "149      C0150                1         580.34              2        1\n",
       "197      C0199                4        1979.28              9        4\n",
       "189      C0191                5        2997.97             11        4"
      ]
     },
     "execution_count": 21,
     "metadata": {},
     "output_type": "execute_result"
    }
   ],
   "source": [
    "customer_data.sample(5)"
   ]
  },
  {
   "cell_type": "code",
   "execution_count": 22,
   "id": "f384802f-ff6b-4349-8d79-a7cf77536f59",
   "metadata": {},
   "outputs": [
    {
     "name": "stdout",
     "output_type": "stream",
     "text": [
      "Davies-Bouldin Index: 0.8967\n"
     ]
    }
   ],
   "source": [
    "db_index = davies_bouldin_score(scaled_features, customer_data['Cluster'])\n",
    "print(f'Davies-Bouldin Index: {db_index:.4f}')"
   ]
  },
  {
   "cell_type": "code",
   "execution_count": 23,
   "id": "3e7540ec-4bad-4fa0-9018-d9199062c95e",
   "metadata": {},
   "outputs": [
    {
     "data": {
      "image/png": "[encoded data removed]",
      "text/plain": [
       "<Figure size 1000x600 with 1 Axes>"
      ]
     },
     "metadata": {},
     "output_type": "display_data"
    }
   ],
   "source": [
    "plt.figure(figsize=(10, 6))\n",
    "sns.scatterplot(data=customer_data, x='TotalSpending', y='NumTransactions', hue='Cluster', palette='viridis', s=100)\n",
    "plt.title('Customer Segmentation using K-Means Clustering')\n",
    "plt.xlabel('Total Spending')\n",
    "plt.ylabel('Number of Transactions')\n",
    "plt.legend(title='Cluster')\n",
    "plt.grid()\n",
    "plt.show()"
   ]
  },
  {
   "cell_type": "code",
   "execution_count": 25,
   "id": "218691db-4d62-4ee6-a305-dee2ce1d814a",
   "metadata": {},
   "outputs": [],
   "source": [
    "from sklearn.metrics import silhouette_score"
   ]
  },
  {
   "cell_type": "code",
   "execution_count": 26,
   "id": "6da629f2-480a-49ca-aa55-8b3ee213d1cf",
   "metadata": {},
   "outputs": [],
   "source": [
    "inertia = kmeans.inertia_"
   ]
  },
  {
   "cell_type": "code",
   "execution_count": 27,
   "id": "6867d657-7f66-49e5-bb87-a49ed69b4a6c",
   "metadata": {},
   "outputs": [],
   "source": [
    "silhouette_avg = silhouette_score(scaled_features, customer_data['Cluster'])"
   ]
  },
  {
   "cell_type": "code",
   "execution_count": 28,
   "id": "242c1965-6b3b-4288-91ed-b961b02a1f44",
   "metadata": {},
   "outputs": [
    {
     "name": "stdout",
     "output_type": "stream",
     "text": [
      "Inertia: 96.2714\n",
      "Silhouette Score: 0.3606\n"
     ]
    }
   ],
   "source": [
    "print(f'Inertia: {inertia:.4f}')\n",
    "print(f'Silhouette Score: {silhouette_avg:.4f}')"
   ]
  },
  {
   "cell_type": "code",
   "execution_count": null,
   "id": "96246fc7-e756-4f9c-931d-699cd48be19b",
   "metadata": {},
   "outputs": [],
   "source": []
  }
 ],
 "metadata": {
  "kernelspec": {
   "display_name": "Python 3 (ipykernel)",
   "language": "python",
   "name": "python3"
  },
  "language_info": {
   "codemirror_mode": {
    "name": "ipython",
    "version": 3
   },
   "file_extension": ".py",
   "mimetype": "text/x-python",
   "name": "python",
   "nbconvert_exporter": "python",
   "pygments_lexer": "ipython3",
   "version": "3.12.3"
  }
 },
 "nbformat": 4,
 "nbformat_minor": 5
}
